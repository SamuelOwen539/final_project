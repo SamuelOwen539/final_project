{
 "cells": [
  {
   "cell_type": "code",
   "execution_count": 28,
   "metadata": {},
   "outputs": [
    {
     "data": {
      "text/plain": [
       "'\\nMy API key:\\nsJpPQctlIBa_wU-oKdgtdEnw_e22io2U3KNp7KGpAlBaCvIQwIUSJt7K4B0VnGddhdKv9vEJnUXuJ4NnENJasgIZDgZqyYwRRRlpOih2vYm95nTn24AbJKcUGkl7YHYx\\n'"
      ]
     },
     "execution_count": 28,
     "metadata": {},
     "output_type": "execute_result"
    }
   ],
   "source": [
    "\n",
    "'''\n",
    "My API key:\n",
    "sJpPQctlIBa_wU-oKdgtdEnw_e22io2U3KNp7KGpAlBaCvIQwIUSJt7K4B0VnGddhdKv9vEJnUXuJ4NnENJasgIZDgZqyYwRRRlpOih2vYm95nTn24AbJKcUGkl7YHYx\n",
    "'''"
   ]
  },
  {
   "cell_type": "code",
   "execution_count": 29,
   "metadata": {},
   "outputs": [],
   "source": [
    "import requests\n",
    "import json"
   ]
  },
  {
   "cell_type": "code",
   "execution_count": 30,
   "metadata": {},
   "outputs": [],
   "source": [
    "API_KEY = 'sJpPQctlIBa_wU-oKdgtdEnw_e22io2U3KNp7KGpAlBaCvIQwIUSJt7K4B0VnGddhdKv9vEJnUXuJ4NnENJasgIZDgZqyYwRRRlpOih2vYm95nTn24AbJKcUGkl7YHYx'\n",
    "URL = 'https://api.yelp.com/v3/businesses/search'\n",
    "HEADERS = {'Authorization': 'bearer %s' % API_KEY}\n",
    "PARAM = {'term': 'sushi',\n",
    "         'limit': 50,\n",
    "         'radius': 10000,\n",
    "         'offset': 0,\n",
    "         'location': 'New York'}\n",
    "           "
   ]
  },
  {
   "cell_type": "code",
   "execution_count": 35,
   "metadata": {},
   "outputs": [],
   "source": [
    "response = requests.get(url = URL, params = PARAM, headers = HEADERS)"
   ]
  },
  {
   "cell_type": "code",
   "execution_count": 36,
   "metadata": {},
   "outputs": [],
   "source": [
    "# json_str = response.text\n",
    "# test_2 = json.loads(json_str)\n",
    "#response = requests.get(url = URL, params = PARAM, headers = HEADERS)\n",
    "business_data = response.json()\n",
    "# response = requests.get(url = URL, params = PARA)"
   ]
  },
  {
   "cell_type": "code",
   "execution_count": 33,
   "metadata": {},
   "outputs": [],
   "source": [
    "def getyelpdata(offset):\n",
    "    PARAM['offset'] = offset\n",
    "    response = requests.get(url = URL, params = PARAM, headers = HEADERS)\n",
    "    business_data = response.json()\n",
    "    return business_data "
   ]
  },
  {
   "cell_type": "code",
   "execution_count": null,
   "metadata": {},
   "outputs": [],
   "source": []
  },
  {
   "cell_type": "code",
   "execution_count": 38,
   "metadata": {},
   "outputs": [
    {
     "name": "stdout",
     "output_type": "stream",
     "text": [
      "{'businesses': [{'id': 'itblJyiTY2h2ACidLk66oA', 'alias': 'takahachi-new-york', 'name': 'Takahachi', 'image_url': 'https://s3-media2.fl.yelpcdn.com/bphoto/hEeWHgKSHySg1i9RUQTzUw/o.jpg', 'is_closed': False, 'url': 'https://www.yelp.com/biz/takahachi-new-york?adjust_creative=NwtoeuLzY-MawNIh6liGLg&utm_campaign=yelp_api_v3&utm_medium=api_v3_business_search&utm_source=NwtoeuLzY-MawNIh6liGLg', 'review_count': 567, 'categories': [{'alias': 'sushi', 'title': 'Sushi Bars'}, {'alias': 'japanese', 'title': 'Japanese'}], 'rating': 4.0, 'coordinates': {'latitude': 40.725315, 'longitude': -73.984436}, 'transactions': ['delivery'], 'price': '$$', 'location': {'address1': '85 Ave A', 'address2': '', 'address3': '', 'city': 'New York', 'zip_code': '10009', 'country': 'US', 'state': 'NY', 'display_address': ['85 Ave A', 'New York, NY 10009']}, 'phone': '+12125056524', 'display_phone': '(212) 505-6524', 'distance': 2353.3280141568616}, {'id': 'BPZfuPvSxCfoppU4lPFm0Q', 'alias': 'domodomo-new-york-new-york-4', 'name': 'DOMODOMO - New York', 'image_url': 'https://s3-media1.fl.yelpcdn.com/bphoto/YX89PDM_-aBCL2USyNyhuw/o.jpg', 'is_closed': False, 'url': 'https://www.yelp.com/biz/domodomo-new-york-new-york-4?adjust_creative=NwtoeuLzY-MawNIh6liGLg&utm_campaign=yelp_api_v3&utm_medium=api_v3_business_search&utm_source=NwtoeuLzY-MawNIh6liGLg', 'review_count': 1175, 'categories': [{'alias': 'japanese', 'title': 'Japanese'}, {'alias': 'sushi', 'title': 'Sushi Bars'}], 'rating': 4.0, 'coordinates': {'latitude': 40.72803, 'longitude': -74.00167}, 'transactions': ['delivery'], 'price': '$$$', 'location': {'address1': '140 W Houston St', 'address2': None, 'address3': '', 'city': 'New York', 'zip_code': '10012', 'country': 'US', 'state': 'NY', 'display_address': ['140 W Houston St', 'New York, NY 10012']}, 'phone': '+16467070301', 'display_phone': '(646) 707-0301', 'distance': 2591.0031789344716}, {'id': '3OKf1QQnDhjkBKVg0eMllQ', 'alias': 'sushi-gallery-brooklyn', 'name': 'Sushi Gallery', 'image_url': 'https://s3-media1.fl.yelpcdn.com/bphoto/Boy-FknCz8iA5pH5taZR8Q/o.jpg', 'is_closed': False, 'url': 'https://www.yelp.com/biz/sushi-gallery-brooklyn?adjust_creative=NwtoeuLzY-MawNIh6liGLg&utm_campaign=yelp_api_v3&utm_medium=api_v3_business_search&utm_source=NwtoeuLzY-MawNIh6liGLg', 'review_count': 137, 'categories': [{'alias': 'sushi', 'title': 'Sushi Bars'}], 'rating': 4.5, 'coordinates': {'latitude': 40.6975970682387, 'longitude': -73.9933660828876}, 'transactions': ['delivery'], 'price': '$$', 'location': {'address1': '71 Clark St', 'address2': '', 'address3': '', 'city': 'Brooklyn', 'zip_code': '11201', 'country': 'US', 'state': 'NY', 'display_address': ['71 Clark St', 'Brooklyn, NY 11201']}, 'phone': '+17182220308', 'display_phone': '(718) 222-0308', 'distance': 870.9310303108638}, {'id': 'pqqhHTz_ZpApsaWGa_zMTA', 'alias': 'douska-new-york', 'name': 'Douska', 'image_url': 'https://s3-media1.fl.yelpcdn.com/bphoto/mVPExHYYyAIM4ts62LwRlg/o.jpg', 'is_closed': False, 'url': 'https://www.yelp.com/biz/douska-new-york?adjust_creative=NwtoeuLzY-MawNIh6liGLg&utm_campaign=yelp_api_v3&utm_medium=api_v3_business_search&utm_source=NwtoeuLzY-MawNIh6liGLg', 'review_count': 101, 'categories': [{'alias': 'sushi', 'title': 'Sushi Bars'}, {'alias': 'japanese', 'title': 'Japanese'}], 'rating': 4.5, 'coordinates': {'latitude': 40.7191369, 'longitude': -73.9908998}, 'transactions': [], 'location': {'address1': '63 Delancey St', 'address2': '', 'address3': None, 'city': 'New York', 'zip_code': '10002', 'country': 'US', 'state': 'NY', 'display_address': ['63 Delancey St', 'New York, NY 10002']}, 'phone': '+16466570908', 'display_phone': '(646) 657-0908', 'distance': 1544.6963982812902}, {'id': 'dOxHYQmBR14Fa2C1X8oMMQ', 'alias': 'sushi-lab-new-york-5', 'name': 'Sushi Lab', 'image_url': 'https://s3-media3.fl.yelpcdn.com/bphoto/Fu8bDLVzqQ3ckzjvmiSGxw/o.jpg', 'is_closed': False, 'url': 'https://www.yelp.com/biz/sushi-lab-new-york-5?adjust_creative=NwtoeuLzY-MawNIh6liGLg&utm_campaign=yelp_api_v3&utm_medium=api_v3_business_search&utm_source=NwtoeuLzY-MawNIh6liGLg', 'review_count': 330, 'categories': [{'alias': 'sushi', 'title': 'Sushi Bars'}, {'alias': 'japanese', 'title': 'Japanese'}], 'rating': 4.5, 'coordinates': {'latitude': 40.758417, 'longitude': -73.983301}, 'transactions': ['delivery', 'pickup'], 'location': {'address1': '132 W 47th St', 'address2': None, 'address3': '', 'city': 'New York', 'zip_code': '10036', 'country': 'US', 'state': 'NY', 'display_address': ['132 W 47th St', 'New York, NY 10036']}, 'phone': '+12124320000', 'display_phone': '(212) 432-0000', 'distance': 5961.292620383107}, {'id': 'jt-0y4RJ20ONbkxxNWG_Sw', 'alias': 'new-mizu-sushi-new-york', 'name': 'New Mizu Sushi', 'image_url': 'https://s3-media3.fl.yelpcdn.com/bphoto/ka1qLBkZ1udk12oVxE4FsA/o.jpg', 'is_closed': False, 'url': 'https://www.yelp.com/biz/new-mizu-sushi-new-york?adjust_creative=NwtoeuLzY-MawNIh6liGLg&utm_campaign=yelp_api_v3&utm_medium=api_v3_business_search&utm_source=NwtoeuLzY-MawNIh6liGLg', 'review_count': 184, 'categories': [{'alias': 'sushi', 'title': 'Sushi Bars'}, {'alias': 'japanese', 'title': 'Japanese'}], 'rating': 4.5, 'coordinates': {'latitude': 40.7283, 'longitude': -73.98538}, 'transactions': ['delivery', 'pickup'], 'price': '$$', 'location': {'address1': '350 E 9th St', 'address2': None, 'address3': '', 'city': 'New York', 'zip_code': '10003', 'country': 'US', 'state': 'NY', 'display_address': ['350 E 9th St', 'New York, NY 10003']}, 'phone': '+16469985453', 'display_phone': '(646) 998-5453', 'distance': 2649.1361250812083}, {'id': 'pNe8ZCkGTe4cXfKdOF7kYQ', 'alias': 'ise-restaurant-new-york-3', 'name': 'Ise Restaurant', 'image_url': 'https://s3-media2.fl.yelpcdn.com/bphoto/S5SGXwZfHG8Esw2x9-CF4A/o.jpg', 'is_closed': False, 'url': 'https://www.yelp.com/biz/ise-restaurant-new-york-3?adjust_creative=NwtoeuLzY-MawNIh6liGLg&utm_campaign=yelp_api_v3&utm_medium=api_v3_business_search&utm_source=NwtoeuLzY-MawNIh6liGLg', 'review_count': 469, 'categories': [{'alias': 'japanese', 'title': 'Japanese'}, {'alias': 'sushi', 'title': 'Sushi Bars'}], 'rating': 4.5, 'coordinates': {'latitude': 40.7291024, 'longitude': -73.9900618}, 'transactions': ['restaurant_reservation', 'pickup', 'delivery'], 'price': '$$', 'location': {'address1': '63 Cooper Sq', 'address2': None, 'address3': '', 'city': 'New York', 'zip_code': '10003', 'country': 'US', 'state': 'NY', 'display_address': ['63 Cooper Sq', 'New York, NY 10003']}, 'phone': '+12122284152', 'display_phone': '(212) 228-4152', 'distance': 2654.657529899308}, {'id': 'QR1YIRzFjd2bi5iBzT9zXg', 'alias': 'blue-ribbon-sushi-new-york', 'name': 'Blue Ribbon Sushi', 'image_url': 'https://s3-media1.fl.yelpcdn.com/bphoto/-qPhorWlki-abAmlr-8akQ/o.jpg', 'is_closed': False, 'url': 'https://www.yelp.com/biz/blue-ribbon-sushi-new-york?adjust_creative=NwtoeuLzY-MawNIh6liGLg&utm_campaign=yelp_api_v3&utm_medium=api_v3_business_search&utm_source=NwtoeuLzY-MawNIh6liGLg', 'review_count': 1109, 'categories': [{'alias': 'sushi', 'title': 'Sushi Bars'}, {'alias': 'japanese', 'title': 'Japanese'}], 'rating': 4.0, 'coordinates': {'latitude': 40.72612, 'longitude': -74.0025299}, 'transactions': ['delivery', 'pickup'], 'price': '$$', 'location': {'address1': '119 Sullivan St', 'address2': '', 'address3': '', 'city': 'New York', 'zip_code': '10012', 'country': 'US', 'state': 'NY', 'display_address': ['119 Sullivan St', 'New York, NY 10012']}, 'phone': '+12123430404', 'display_phone': '(212) 343-0404', 'distance': 2399.5278900084168}, {'id': 'MGRo61aHFUeRlWhSbTv2NA', 'alias': 'sushi-by-m-new-york', 'name': 'Sushi By M', 'image_url': 'https://s3-media1.fl.yelpcdn.com/bphoto/GIeRLzXMPVn0196G6_2lyQ/o.jpg', 'is_closed': False, 'url': 'https://www.yelp.com/biz/sushi-by-m-new-york?adjust_creative=NwtoeuLzY-MawNIh6liGLg&utm_campaign=yelp_api_v3&utm_medium=api_v3_business_search&utm_source=NwtoeuLzY-MawNIh6liGLg', 'review_count': 536, 'categories': [{'alias': 'sushi', 'title': 'Sushi Bars'}], 'rating': 4.5, 'coordinates': {'latitude': 40.72666, 'longitude': -73.99027}, 'transactions': ['restaurant_reservation', 'delivery'], 'price': '$$$', 'location': {'address1': '75 E 4th St', 'address2': None, 'address3': '', 'city': 'New York', 'zip_code': '10003', 'country': 'US', 'state': 'NY', 'display_address': ['75 E 4th St', 'New York, NY 10003']}, 'phone': '+13476888101', 'display_phone': '(347) 688-8101', 'distance': 2394.617289136728}, {'id': 'ZfuZ2byArGq-5j8zX8Afeg', 'alias': 'zest-sushi-new-york-3', 'name': 'Zest Sushi', 'image_url': 'https://s3-media2.fl.yelpcdn.com/bphoto/W0-g2DqPNGEih80-h92b8A/o.jpg', 'is_closed': False, 'url': 'https://www.yelp.com/biz/zest-sushi-new-york-3?adjust_creative=NwtoeuLzY-MawNIh6liGLg&utm_campaign=yelp_api_v3&utm_medium=api_v3_business_search&utm_source=NwtoeuLzY-MawNIh6liGLg', 'review_count': 853, 'categories': [{'alias': 'sushi', 'title': 'Sushi Bars'}, {'alias': 'japanese', 'title': 'Japanese'}, {'alias': 'thai', 'title': 'Thai'}], 'rating': 4.0, 'coordinates': {'latitude': 40.7178344726563, 'longitude': -73.9899597167969}, 'transactions': ['delivery', 'pickup'], 'price': '$$', 'location': {'address1': '249 Broome St', 'address2': '', 'address3': '', 'city': 'New York', 'zip_code': '10002', 'country': 'US', 'state': 'NY', 'display_address': ['249 Broome St', 'New York, NY 10002']}, 'phone': '+12126773158', 'display_phone': '(212) 677-3158', 'distance': 1425.2566698018184}, {'id': 'kkVutuFSHhCd2Xtm_0ia2A', 'alias': 'sushi-kai-new-york-3', 'name': 'Sushi Kai', 'image_url': 'https://s3-media2.fl.yelpcdn.com/bphoto/3LaeJwbgjd7NnshksKtVKQ/o.jpg', 'is_closed': False, 'url': 'https://www.yelp.com/biz/sushi-kai-new-york-3?adjust_creative=NwtoeuLzY-MawNIh6liGLg&utm_campaign=yelp_api_v3&utm_medium=api_v3_business_search&utm_source=NwtoeuLzY-MawNIh6liGLg', 'review_count': 55, 'categories': [{'alias': 'sushi', 'title': 'Sushi Bars'}], 'rating': 4.5, 'coordinates': {'latitude': 40.728498, 'longitude': -73.98615}, 'transactions': ['restaurant_reservation', 'delivery'], 'location': {'address1': '332 E 9th St', 'address2': None, 'address3': '', 'city': 'New York', 'zip_code': '10003', 'country': 'US', 'state': 'NY', 'display_address': ['332 E 9th St', 'New York, NY 10003']}, 'phone': '+19294205917', 'display_phone': '(929) 420-5917', 'distance': 2654.7755104496587}, {'id': 'HWPh33x1lrHvBu-DstSPLA', 'alias': 'daigo-sushi-roll-bar-brooklyn', 'name': 'Daigo Sushi Roll Bar', 'image_url': 'https://s3-media4.fl.yelpcdn.com/bphoto/Hp-EWBg1Z9xDfupfycLMiA/o.jpg', 'is_closed': False, 'url': 'https://www.yelp.com/biz/daigo-sushi-roll-bar-brooklyn?adjust_creative=NwtoeuLzY-MawNIh6liGLg&utm_campaign=yelp_api_v3&utm_medium=api_v3_business_search&utm_source=NwtoeuLzY-MawNIh6liGLg', 'review_count': 30, 'categories': [{'alias': 'sushi', 'title': 'Sushi Bars'}], 'rating': 5.0, 'coordinates': {'latitude': 40.676541, 'longitude': -73.98445}, 'transactions': ['delivery', 'pickup'], 'location': {'address1': '527 Carroll St', 'address2': '', 'address3': None, 'city': 'Brooklyn', 'zip_code': '11215', 'country': 'US', 'state': 'NY', 'display_address': ['527 Carroll St', 'Brooklyn, NY 11215']}, 'phone': '+19179091504', 'display_phone': '(917) 909-1504', 'distance': 3319.378151378764}, {'id': 'KrJ6m_TkxBAPPSNH-G7rvQ', 'alias': 'u-gu-brooklyn-4', 'name': 'U-gu', 'image_url': 'https://s3-media4.fl.yelpcdn.com/bphoto/SFjbDpJNmMtGaU-SB__RrQ/o.jpg', 'is_closed': False, 'url': 'https://www.yelp.com/biz/u-gu-brooklyn-4?adjust_creative=NwtoeuLzY-MawNIh6liGLg&utm_campaign=yelp_api_v3&utm_medium=api_v3_business_search&utm_source=NwtoeuLzY-MawNIh6liGLg', 'review_count': 136, 'categories': [{'alias': 'sushi', 'title': 'Sushi Bars'}, {'alias': 'japanese', 'title': 'Japanese'}], 'rating': 4.5, 'coordinates': {'latitude': 40.69393, 'longitude': -73.96284}, 'transactions': ['delivery', 'pickup'], 'price': '$$', 'location': {'address1': '541 Myrtle Ave', 'address2': 'Ste B', 'address3': None, 'city': 'Brooklyn', 'zip_code': '11205', 'country': 'US', 'state': 'NY', 'display_address': ['541 Myrtle Ave', 'Ste B', 'Brooklyn, NY 11205']}, 'phone': '+17188570222', 'display_phone': '(718) 857-0222', 'distance': 2946.825651568673}, {'id': '91tQ4ToReVVCA5MTJi9gfw', 'alias': 'iron-chef-house-brooklyn', 'name': 'Iron Chef House', 'image_url': 'https://s3-media3.fl.yelpcdn.com/bphoto/zKFhrR6kl2j_6pZ97W2S7g/o.jpg', 'is_closed': False, 'url': 'https://www.yelp.com/biz/iron-chef-house-brooklyn?adjust_creative=NwtoeuLzY-MawNIh6liGLg&utm_campaign=yelp_api_v3&utm_medium=api_v3_business_search&utm_source=NwtoeuLzY-MawNIh6liGLg', 'review_count': 411, 'categories': [{'alias': 'sushi', 'title': 'Sushi Bars'}, {'alias': 'japanese', 'title': 'Japanese'}], 'rating': 4.0, 'coordinates': {'latitude': 40.6972664717136, 'longitude': -73.9925980567932}, 'transactions': ['delivery', 'pickup'], 'price': '$$', 'location': {'address1': '92 Clark St', 'address2': '', 'address3': '', 'city': 'Brooklyn', 'zip_code': '11201', 'country': 'US', 'state': 'NY', 'display_address': ['92 Clark St', 'Brooklyn, NY 11201']}, 'phone': '+17188588517', 'display_phone': '(718) 858-8517', 'distance': 920.553742544232}, {'id': 'T2fE7hGS83Ba-QNCOqbK4A', 'alias': 'ako-brooklyn-5', 'name': 'Ako', 'image_url': 'https://s3-media3.fl.yelpcdn.com/bphoto/XG4n3k-9-S6MMIlrec9qKQ/o.jpg', 'is_closed': False, 'url': 'https://www.yelp.com/biz/ako-brooklyn-5?adjust_creative=NwtoeuLzY-MawNIh6liGLg&utm_campaign=yelp_api_v3&utm_medium=api_v3_business_search&utm_source=NwtoeuLzY-MawNIh6liGLg', 'review_count': 425, 'categories': [{'alias': 'sushi', 'title': 'Sushi Bars'}, {'alias': 'japanese', 'title': 'Japanese'}, {'alias': 'wine_bars', 'title': 'Wine Bars'}], 'rating': 4.0, 'coordinates': {'latitude': 40.7168599, 'longitude': -73.95845}, 'transactions': ['delivery', 'pickup'], 'price': '$$', 'location': {'address1': '205 Bedford Ave', 'address2': '', 'address3': '', 'city': 'Brooklyn', 'zip_code': '11211', 'country': 'US', 'state': 'NY', 'display_address': ['205 Bedford Ave', 'Brooklyn, NY 11211']}, 'phone': '+17183022035', 'display_phone': '(718) 302-2035', 'distance': 3275.340512544691}, {'id': 'pGYovGGnxm0tMmkiQJPygA', 'alias': 'ume-williamsburg-brooklyn', 'name': 'Ume Williamsburg', 'image_url': 'https://s3-media1.fl.yelpcdn.com/bphoto/Xf4YxwWndOMp-5Ho_iJ6tg/o.jpg', 'is_closed': False, 'url': 'https://www.yelp.com/biz/ume-williamsburg-brooklyn?adjust_creative=NwtoeuLzY-MawNIh6liGLg&utm_campaign=yelp_api_v3&utm_medium=api_v3_business_search&utm_source=NwtoeuLzY-MawNIh6liGLg', 'review_count': 194, 'categories': [{'alias': 'sushi', 'title': 'Sushi Bars'}], 'rating': 4.0, 'coordinates': {'latitude': 40.71657, 'longitude': -73.96559}, 'transactions': ['delivery'], 'location': {'address1': '237 Kent Ave', 'address2': None, 'address3': '', 'city': 'Brooklyn', 'zip_code': '11249', 'country': 'US', 'state': 'NY', 'display_address': ['237 Kent Ave', 'Brooklyn, NY 11249']}, 'phone': '+19294203253', 'display_phone': '(929) 420-3253', 'distance': 2724.4228536190876}, {'id': 'U7gqQHSRFNYCad3qGLj3yQ', 'alias': 'umami-sushi-new-york', 'name': 'Umami Sushi', 'image_url': 'https://s3-media1.fl.yelpcdn.com/bphoto/0jXFvza63DTGlUBIcP0hdg/o.jpg', 'is_closed': False, 'url': 'https://www.yelp.com/biz/umami-sushi-new-york?adjust_creative=NwtoeuLzY-MawNIh6liGLg&utm_campaign=yelp_api_v3&utm_medium=api_v3_business_search&utm_source=NwtoeuLzY-MawNIh6liGLg', 'review_count': 144, 'categories': [{'alias': 'sushi', 'title': 'Sushi Bars'}, {'alias': 'japanese', 'title': 'Japanese'}], 'rating': 4.5, 'coordinates': {'latitude': 40.73571, 'longitude': -74.00044}, 'transactions': ['delivery', 'pickup'], 'price': '$$', 'location': {'address1': '50 Greenwich Ave', 'address2': '', 'address3': None, 'city': 'New York', 'zip_code': '10011', 'country': 'US', 'state': 'NY', 'display_address': ['50 Greenwich Ave', 'New York, NY 10011']}, 'phone': '+16467564278', 'display_phone': '(646) 756-4278', 'distance': 3405.9136531952627}, {'id': 'NGDLKVh3x5Hch24XWb6M9w', 'alias': 'sushi-nonaka-new-york', 'name': 'Sushi Nonaka', 'image_url': 'https://s3-media2.fl.yelpcdn.com/bphoto/lmQHuRgo2qvXgKjI3g8NrQ/o.jpg', 'is_closed': False, 'url': 'https://www.yelp.com/biz/sushi-nonaka-new-york?adjust_creative=NwtoeuLzY-MawNIh6liGLg&utm_campaign=yelp_api_v3&utm_medium=api_v3_business_search&utm_source=NwtoeuLzY-MawNIh6liGLg', 'review_count': 82, 'categories': [{'alias': 'sushi', 'title': 'Sushi Bars'}], 'rating': 4.5, 'coordinates': {'latitude': 40.783672, 'longitude': -73.978343}, 'transactions': ['delivery', 'pickup'], 'location': {'address1': '410 Amsterdam Ave', 'address2': '', 'address3': None, 'city': 'New York', 'zip_code': '10024', 'country': 'US', 'state': 'NY', 'display_address': ['410 Amsterdam Ave', 'New York, NY 10024']}, 'phone': '+16464540226', 'display_phone': '(646) 454-0226', 'distance': 8801.592809300435}, {'id': 'AFt1Qcec4_JNr6PWpkRYyw', 'alias': 'sushi-lin-brooklyn-2', 'name': 'Sushi Lin', 'image_url': 'https://s3-media1.fl.yelpcdn.com/bphoto/2zPxmKj8fumQqJ1S94UcEA/o.jpg', 'is_closed': False, 'url': 'https://www.yelp.com/biz/sushi-lin-brooklyn-2?adjust_creative=NwtoeuLzY-MawNIh6liGLg&utm_campaign=yelp_api_v3&utm_medium=api_v3_business_search&utm_source=NwtoeuLzY-MawNIh6liGLg', 'review_count': 277, 'categories': [{'alias': 'sushi', 'title': 'Sushi Bars'}, {'alias': 'japanese', 'title': 'Japanese'}], 'rating': 4.5, 'coordinates': {'latitude': 40.677786, 'longitude': -73.972591}, 'transactions': ['delivery'], 'price': '$$$', 'location': {'address1': '335 Flatbush Ave', 'address2': '', 'address3': None, 'city': 'Brooklyn', 'zip_code': '11217', 'country': 'US', 'state': 'NY', 'display_address': ['335 Flatbush Ave', 'Brooklyn, NY 11217']}, 'phone': '+13476276027', 'display_phone': '(347) 627-6027', 'distance': 3577.679843014624}, {'id': 'SUHJfh7H2NiQx8c5OWoAyQ', 'alias': 'sushi-yashin-brooklyn', 'name': 'Sushi Yashin', 'image_url': 'https://s3-media2.fl.yelpcdn.com/bphoto/oz8qpJXinhbDEPUn7O1_OQ/o.jpg', 'is_closed': False, 'url': 'https://www.yelp.com/biz/sushi-yashin-brooklyn?adjust_creative=NwtoeuLzY-MawNIh6liGLg&utm_campaign=yelp_api_v3&utm_medium=api_v3_business_search&utm_source=NwtoeuLzY-MawNIh6liGLg', 'review_count': 215, 'categories': [{'alias': 'japanese', 'title': 'Japanese'}, {'alias': 'sushi', 'title': 'Sushi Bars'}], 'rating': 4.0, 'coordinates': {'latitude': 40.6708328473989, 'longitude': -73.9847132950057}, 'transactions': ['restaurant_reservation', 'delivery', 'pickup'], 'price': '$$', 'location': {'address1': '381 5th Ave', 'address2': None, 'address3': '', 'city': 'Brooklyn', 'zip_code': '11215', 'country': 'US', 'state': 'NY', 'display_address': ['381 5th Ave', 'Brooklyn, NY 11215']}, 'phone': '+17187886789', 'display_phone': '(718) 788-6789', 'distance': 3932.524455003675}, {'id': 'YvRTy-6_akPsz25BSSuC_w', 'alias': 'sushi-teru-new-york', 'name': 'Sushi Teru', 'image_url': 'https://s3-media1.fl.yelpcdn.com/bphoto/-zU4g60H1VZy5cau-i0V3w/o.jpg', 'is_closed': False, 'url': 'https://www.yelp.com/biz/sushi-teru-new-york?adjust_creative=NwtoeuLzY-MawNIh6liGLg&utm_campaign=yelp_api_v3&utm_medium=api_v3_business_search&utm_source=NwtoeuLzY-MawNIh6liGLg', 'review_count': 40, 'categories': [{'alias': 'sushi', 'title': 'Sushi Bars'}], 'rating': 5.0, 'coordinates': {'latitude': 40.737832, 'longitude': -74.00594}, 'transactions': ['delivery', 'pickup'], 'location': {'address1': '615 1/2 Hudson St', 'address2': None, 'address3': '', 'city': 'New York', 'zip_code': '10014', 'country': 'US', 'state': 'NY', 'display_address': ['615 1/2 Hudson St', 'New York, NY 10014']}, 'phone': '+16469228677', 'display_phone': '(646) 922-8677', 'distance': 3741.051371342627}, {'id': 'DW6QH9hNP5kgkg-5UDS9wQ', 'alias': 'shinn-east-new-york', 'name': 'Shinn East', 'image_url': 'https://s3-media2.fl.yelpcdn.com/bphoto/urFyIFsf1Vauz0NXNASzFQ/o.jpg', 'is_closed': False, 'url': 'https://www.yelp.com/biz/shinn-east-new-york?adjust_creative=NwtoeuLzY-MawNIh6liGLg&utm_campaign=yelp_api_v3&utm_medium=api_v3_business_search&utm_source=NwtoeuLzY-MawNIh6liGLg', 'review_count': 44, 'categories': [{'alias': 'sushi', 'title': 'Sushi Bars'}, {'alias': 'japanese', 'title': 'Japanese'}], 'rating': 4.5, 'coordinates': {'latitude': 40.7265202, 'longitude': -73.98429}, 'transactions': ['delivery'], 'location': {'address1': '119 E 7th St', 'address2': '', 'address3': None, 'city': 'New York', 'zip_code': '10009', 'country': 'US', 'state': 'NY', 'display_address': ['119 E 7th St', 'New York, NY 10009']}, 'phone': '+13475674915', 'display_phone': '(347) 567-4915', 'distance': 2495.1867195342957}, {'id': 'VaL9GaBR_GR-q9d1VzJF3g', 'alias': 'suteishi-new-york', 'name': 'Suteishi', 'image_url': 'https://s3-media3.fl.yelpcdn.com/bphoto/zFHHcbKvhh1NCcqZ9N3HLg/o.jpg', 'is_closed': False, 'url': 'https://www.yelp.com/biz/suteishi-new-york?adjust_creative=NwtoeuLzY-MawNIh6liGLg&utm_campaign=yelp_api_v3&utm_medium=api_v3_business_search&utm_source=NwtoeuLzY-MawNIh6liGLg', 'review_count': 506, 'categories': [{'alias': 'japanese', 'title': 'Japanese'}, {'alias': 'sushi', 'title': 'Sushi Bars'}], 'rating': 4.0, 'coordinates': {'latitude': 40.70788, 'longitude': -74.00194}, 'transactions': ['restaurant_reservation', 'delivery', 'pickup'], 'price': '$$$', 'location': {'address1': '24 Peck Slip', 'address2': '', 'address3': '', 'city': 'New York', 'zip_code': '10038', 'country': 'US', 'state': 'NY', 'display_address': ['24 Peck Slip', 'New York, NY 10038']}, 'phone': '+12127662344', 'display_phone': '(212) 766-2344', 'distance': 698.6830054511408}, {'id': 'skL_mmJRGkLTrdYhy3rnlg', 'alias': 'sushi-hatsune-new-york-3', 'name': 'Sushi Hatsune', 'image_url': 'https://s3-media2.fl.yelpcdn.com/bphoto/LcwxW4DeT8EdpA9gVmp6vg/o.jpg', 'is_closed': False, 'url': 'https://www.yelp.com/biz/sushi-hatsune-new-york-3?adjust_creative=NwtoeuLzY-MawNIh6liGLg&utm_campaign=yelp_api_v3&utm_medium=api_v3_business_search&utm_source=NwtoeuLzY-MawNIh6liGLg', 'review_count': 13, 'categories': [{'alias': 'sushi', 'title': 'Sushi Bars'}, {'alias': 'japanese', 'title': 'Japanese'}, {'alias': 'salad', 'title': 'Salad'}], 'rating': 4.5, 'coordinates': {'latitude': 40.715995320569505, 'longitude': -73.9927898728603}, 'transactions': ['delivery', 'pickup'], 'location': {'address1': '50 Eldridge St', 'address2': None, 'address3': '', 'city': 'New York', 'zip_code': '10002', 'country': 'US', 'state': 'NY', 'display_address': ['50 Eldridge St', 'New York, NY 10002']}, 'phone': '+12123010723', 'display_phone': '(212) 301-0723', 'distance': 1179.9791092469895}, {'id': 'zGAQqDu0Ak2khVYs9WdQxw', 'alias': 'sushi-nakazawa-new-york', 'name': 'Sushi Nakazawa', 'image_url': 'https://s3-media4.fl.yelpcdn.com/bphoto/tNBLvnE6kfwTu_m9BO837g/o.jpg', 'is_closed': False, 'url': 'https://www.yelp.com/biz/sushi-nakazawa-new-york?adjust_creative=NwtoeuLzY-MawNIh6liGLg&utm_campaign=yelp_api_v3&utm_medium=api_v3_business_search&utm_source=NwtoeuLzY-MawNIh6liGLg', 'review_count': 1425, 'categories': [{'alias': 'japanese', 'title': 'Japanese'}, {'alias': 'sushi', 'title': 'Sushi Bars'}], 'rating': 4.5, 'coordinates': {'latitude': 40.7317465228689, 'longitude': -74.0045493828034}, 'transactions': [], 'price': '$$$$', 'location': {'address1': '23 Commerce St', 'address2': '', 'address3': '', 'city': 'New York', 'zip_code': '10014', 'country': 'US', 'state': 'NY', 'display_address': ['23 Commerce St', 'New York, NY 10014']}, 'phone': '+12129242212', 'display_phone': '(212) 924-2212', 'distance': 3049.663639600052}, {'id': 'MM5P9cKlzovYLcf5qf2SwQ', 'alias': '1-or-8-brooklyn', 'name': '1 OR 8', 'image_url': 'https://s3-media2.fl.yelpcdn.com/bphoto/KvBxtSCRhXTxqma-JsmiTg/o.jpg', 'is_closed': False, 'url': 'https://www.yelp.com/biz/1-or-8-brooklyn?adjust_creative=NwtoeuLzY-MawNIh6liGLg&utm_campaign=yelp_api_v3&utm_medium=api_v3_business_search&utm_source=NwtoeuLzY-MawNIh6liGLg', 'review_count': 410, 'categories': [{'alias': 'japanese', 'title': 'Japanese'}, {'alias': 'sushi', 'title': 'Sushi Bars'}], 'rating': 4.0, 'coordinates': {'latitude': 40.6896859, 'longitude': -73.9703551}, 'transactions': ['delivery', 'pickup'], 'price': '$$$', 'location': {'address1': '229 Dekalb Ave', 'address2': '', 'address3': '', 'city': 'Brooklyn', 'zip_code': '11205', 'country': 'US', 'state': 'NY', 'display_address': ['229 Dekalb Ave', 'Brooklyn, NY 11205']}, 'phone': '+17183842152', 'display_phone': '(718) 384-2152', 'distance': 2672.6799518701496}, {'id': 'dskDbpvA0hI_7RjtoL6IKA', 'alias': 'sugarfish-by-sushi-nozawa-new-york-2', 'name': 'SUGARFISH by sushi nozawa', 'image_url': 'https://s3-media2.fl.yelpcdn.com/bphoto/R1pPyDw0SfWSOT4n5Iq-qQ/o.jpg', 'is_closed': False, 'url': 'https://www.yelp.com/biz/sugarfish-by-sushi-nozawa-new-york-2?adjust_creative=NwtoeuLzY-MawNIh6liGLg&utm_campaign=yelp_api_v3&utm_medium=api_v3_business_search&utm_source=NwtoeuLzY-MawNIh6liGLg', 'review_count': 175, 'categories': [{'alias': 'sushi', 'title': 'Sushi Bars'}], 'rating': 4.0, 'coordinates': {'latitude': 40.72511, 'longitude': -74.00358}, 'transactions': [], 'price': '$$', 'location': {'address1': '202 Spring St', 'address2': '', 'address3': None, 'city': 'New York', 'zip_code': '10012', 'country': 'US', 'state': 'NY', 'display_address': ['202 Spring St', 'New York, NY 10012']}, 'phone': '+12128477464', 'display_phone': '(212) 847-7464', 'distance': 2325.6385904702615}, {'id': 'HFn1sPqKSzvxaMk2n2ZtJw', 'alias': 'kotobuki-manhattan-new-york', 'name': 'Kotobuki Manhattan', 'image_url': 'https://s3-media4.fl.yelpcdn.com/bphoto/lUQa7hPYeNnhb4qq7jI8fw/o.jpg', 'is_closed': False, 'url': 'https://www.yelp.com/biz/kotobuki-manhattan-new-york?adjust_creative=NwtoeuLzY-MawNIh6liGLg&utm_campaign=yelp_api_v3&utm_medium=api_v3_business_search&utm_source=NwtoeuLzY-MawNIh6liGLg', 'review_count': 637, 'categories': [{'alias': 'japanese', 'title': 'Japanese'}, {'alias': 'sushi', 'title': 'Sushi Bars'}, {'alias': 'seafood', 'title': 'Seafood'}], 'rating': 4.0, 'coordinates': {'latitude': 40.731107, 'longitude': -73.98912}, 'transactions': ['delivery', 'pickup'], 'price': '$$', 'location': {'address1': '56 3rd Ave', 'address2': None, 'address3': '', 'city': 'New York', 'zip_code': '10003', 'country': 'US', 'state': 'NY', 'display_address': ['56 3rd Ave', 'New York, NY 10003']}, 'phone': '+12123535088', 'display_phone': '(212) 353-5088', 'distance': 2886.611027992669}, {'id': 'KHRrlw05_pv_fd8ntvS1xw', 'alias': 'sugarfish-by-sushi-nozawa-new-york-5', 'name': 'SUGARFISH by sushi nozawa', 'image_url': 'https://s3-media4.fl.yelpcdn.com/bphoto/clsTKghdm4f0i2lY639V2A/o.jpg', 'is_closed': False, 'url': 'https://www.yelp.com/biz/sugarfish-by-sushi-nozawa-new-york-5?adjust_creative=NwtoeuLzY-MawNIh6liGLg&utm_campaign=yelp_api_v3&utm_medium=api_v3_business_search&utm_source=NwtoeuLzY-MawNIh6liGLg', 'review_count': 34, 'categories': [{'alias': 'japanese', 'title': 'Japanese'}, {'alias': 'sushi', 'title': 'Sushi Bars'}], 'rating': 4.5, 'coordinates': {'latitude': 40.764976, 'longitude': -73.981655}, 'transactions': [], 'location': {'address1': '1740 Broadway', 'address2': 'Ste 1', 'address3': None, 'city': 'New York', 'zip_code': '10019', 'country': 'US', 'state': 'NY', 'display_address': ['1740 Broadway', 'Ste 1', 'New York, NY 10019']}, 'phone': '+16466308293', 'display_phone': '(646) 630-8293', 'distance': 6721.991798716064}, {'id': 'e3JALGueMcc2eLXRK8HPNQ', 'alias': 'ki-sushi-brooklyn-5', 'name': 'Ki Sushi', 'image_url': 'https://s3-media3.fl.yelpcdn.com/bphoto/4dfHlxMOmFTu6fmVw9LAQg/o.jpg', 'is_closed': False, 'url': 'https://www.yelp.com/biz/ki-sushi-brooklyn-5?adjust_creative=NwtoeuLzY-MawNIh6liGLg&utm_campaign=yelp_api_v3&utm_medium=api_v3_business_search&utm_source=NwtoeuLzY-MawNIh6liGLg', 'review_count': 196, 'categories': [{'alias': 'japanese', 'title': 'Japanese'}, {'alias': 'sushi', 'title': 'Sushi Bars'}], 'rating': 4.5, 'coordinates': {'latitude': 40.6784417729132, 'longitude': -73.9734394269355}, 'transactions': ['delivery'], 'price': '$$', 'location': {'address1': '282 Flatbush Ave', 'address2': '', 'address3': None, 'city': 'Brooklyn', 'zip_code': '11217', 'country': 'US', 'state': 'NY', 'display_address': ['282 Flatbush Ave', 'Brooklyn, NY 11217']}, 'phone': '+17182301381', 'display_phone': '(718) 230-1381', 'distance': 3479.495921959821}, {'id': 'd8qCvlsG3jwxQPZc_OGogQ', 'alias': 'hibino-brooklyn', 'name': 'Hibino', 'image_url': 'https://s3-media3.fl.yelpcdn.com/bphoto/P07pVNA8NFL2KT-myQyh0Q/o.jpg', 'is_closed': False, 'url': 'https://www.yelp.com/biz/hibino-brooklyn?adjust_creative=NwtoeuLzY-MawNIh6liGLg&utm_campaign=yelp_api_v3&utm_medium=api_v3_business_search&utm_source=NwtoeuLzY-MawNIh6liGLg', 'review_count': 401, 'categories': [{'alias': 'japanese', 'title': 'Japanese'}, {'alias': 'sushi', 'title': 'Sushi Bars'}], 'rating': 4.0, 'coordinates': {'latitude': 40.69017, 'longitude': -73.99637}, 'transactions': ['delivery'], 'price': '$$', 'location': {'address1': '333 Henry St', 'address2': '', 'address3': '', 'city': 'Brooklyn', 'zip_code': '11201', 'country': 'US', 'state': 'NY', 'display_address': ['333 Henry St', 'Brooklyn, NY 11201']}, 'phone': '+17182608052', 'display_phone': '(718) 260-8052', 'distance': 1709.5238050413357}, {'id': 'tT6teP3ZfCAfvdPdDoqG4A', 'alias': 'ki-sushi-brooklyn', 'name': 'Ki Sushi', 'image_url': 'https://s3-media4.fl.yelpcdn.com/bphoto/Mbkxqjg7HBvrez77WmwHrg/o.jpg', 'is_closed': False, 'url': 'https://www.yelp.com/biz/ki-sushi-brooklyn?adjust_creative=NwtoeuLzY-MawNIh6liGLg&utm_campaign=yelp_api_v3&utm_medium=api_v3_business_search&utm_source=NwtoeuLzY-MawNIh6liGLg', 'review_count': 709, 'categories': [{'alias': 'sushi', 'title': 'Sushi Bars'}, {'alias': 'japanese', 'title': 'Japanese'}], 'rating': 4.0, 'coordinates': {'latitude': 40.68764, 'longitude': -73.9901}, 'transactions': ['delivery'], 'price': '$$', 'location': {'address1': '122 Smith St', 'address2': '', 'address3': '', 'city': 'Brooklyn', 'zip_code': '11201', 'country': 'US', 'state': 'NY', 'display_address': ['122 Smith St', 'Brooklyn, NY 11201']}, 'phone': '+17189350575', 'display_phone': '(718) 935-0575', 'distance': 2009.758329718251}, {'id': 'VVlHJ6_sJbRAodV5lCzBnA', 'alias': 'kanoyama-new-york', 'name': 'Kanoyama', 'image_url': 'https://s3-media1.fl.yelpcdn.com/bphoto/huH4eiAzFa8N-4nUt8e44Q/o.jpg', 'is_closed': False, 'url': 'https://www.yelp.com/biz/kanoyama-new-york?adjust_creative=NwtoeuLzY-MawNIh6liGLg&utm_campaign=yelp_api_v3&utm_medium=api_v3_business_search&utm_source=NwtoeuLzY-MawNIh6liGLg', 'review_count': 664, 'categories': [{'alias': 'japanese', 'title': 'Japanese'}, {'alias': 'sushi', 'title': 'Sushi Bars'}], 'rating': 4.0, 'coordinates': {'latitude': 40.730545186039, 'longitude': -73.986544028849}, 'transactions': ['delivery', 'pickup'], 'price': '$$$', 'location': {'address1': '175 2nd Ave', 'address2': None, 'address3': '', 'city': 'New York', 'zip_code': '10003', 'country': 'US', 'state': 'NY', 'display_address': ['175 2nd Ave', 'New York, NY 10003']}, 'phone': '+12127775266', 'display_phone': '(212) 777-5266', 'distance': 2866.4161405823147}, {'id': 'HZWHBfeuP4Fb6y8b8uqnbA', 'alias': 'sushi-yasaka-new-york', 'name': 'Sushi Yasaka', 'image_url': 'https://s3-media4.fl.yelpcdn.com/bphoto/_U6FaHQbA_44sUQBVlI9_Q/o.jpg', 'is_closed': False, 'url': 'https://www.yelp.com/biz/sushi-yasaka-new-york?adjust_creative=NwtoeuLzY-MawNIh6liGLg&utm_campaign=yelp_api_v3&utm_medium=api_v3_business_search&utm_source=NwtoeuLzY-MawNIh6liGLg', 'review_count': 1789, 'categories': [{'alias': 'japanese', 'title': 'Japanese'}, {'alias': 'sushi', 'title': 'Sushi Bars'}], 'rating': 4.0, 'coordinates': {'latitude': 40.779583, 'longitude': -73.983482}, 'transactions': ['delivery', 'pickup'], 'price': '$$', 'location': {'address1': '251 W 72nd St', 'address2': '', 'address3': '', 'city': 'New York', 'zip_code': '10023', 'country': 'US', 'state': 'NY', 'display_address': ['251 W 72nd St', 'New York, NY 10023']}, 'phone': '+12124968460', 'display_phone': '(212) 496-8460', 'distance': 8293.93796491287}, {'id': 'hh0ae47ojPqq3USCRLmAjg', 'alias': 'tomoe-sushi-new-york', 'name': 'Tomoe Sushi', 'image_url': 'https://s3-media1.fl.yelpcdn.com/bphoto/bX8rDTFswcgpHjOZ6zWO0g/o.jpg', 'is_closed': False, 'url': 'https://www.yelp.com/biz/tomoe-sushi-new-york?adjust_creative=NwtoeuLzY-MawNIh6liGLg&utm_campaign=yelp_api_v3&utm_medium=api_v3_business_search&utm_source=NwtoeuLzY-MawNIh6liGLg', 'review_count': 980, 'categories': [{'alias': 'sushi', 'title': 'Sushi Bars'}], 'rating': 4.0, 'coordinates': {'latitude': 40.7277, 'longitude': -74.0001599}, 'transactions': ['delivery'], 'price': '$$$', 'location': {'address1': '172 Thompson St', 'address2': '', 'address3': '', 'city': 'New York', 'zip_code': '10012', 'country': 'US', 'state': 'NY', 'display_address': ['172 Thompson St', 'New York, NY 10012']}, 'phone': '+12127779346', 'display_phone': '(212) 777-9346', 'distance': 2519.741121971132}, {'id': 'SoBdWOxymmY5yKANn63UWw', 'alias': 'ozu-brooklyn', 'name': 'Ozu', 'image_url': 'https://s3-media1.fl.yelpcdn.com/bphoto/T1SdmmthTZtiIae1y5QnNw/o.jpg', 'is_closed': False, 'url': 'https://www.yelp.com/biz/ozu-brooklyn?adjust_creative=NwtoeuLzY-MawNIh6liGLg&utm_campaign=yelp_api_v3&utm_medium=api_v3_business_search&utm_source=NwtoeuLzY-MawNIh6liGLg', 'review_count': 264, 'categories': [{'alias': 'japanese', 'title': 'Japanese'}, {'alias': 'sushi', 'title': 'Sushi Bars'}, {'alias': 'asianfusion', 'title': 'Asian Fusion'}], 'rating': 4.0, 'coordinates': {'latitude': 40.6974732130766, 'longitude': -73.9932652562857}, 'transactions': ['delivery', 'pickup'], 'price': '$$', 'location': {'address1': '78 Clark St', 'address2': '', 'address3': '', 'city': 'Brooklyn', 'zip_code': '11201', 'country': 'US', 'state': 'NY', 'display_address': ['78 Clark St', 'Brooklyn, NY 11201']}, 'phone': '+17187973288', 'display_phone': '(718) 797-3288', 'distance': 896.1026683646718}, {'id': '7Q68kpPS6okcC8Kkw7g42A', 'alias': 'sushi-lab-rooftop-nyc-new-york-2', 'name': 'Sushi Lab Rooftop NYC', 'image_url': 'https://s3-media2.fl.yelpcdn.com/bphoto/EZdrheKY7NxhnnZltFD4hQ/o.jpg', 'is_closed': False, 'url': 'https://www.yelp.com/biz/sushi-lab-rooftop-nyc-new-york-2?adjust_creative=NwtoeuLzY-MawNIh6liGLg&utm_campaign=yelp_api_v3&utm_medium=api_v3_business_search&utm_source=NwtoeuLzY-MawNIh6liGLg', 'review_count': 163, 'categories': [{'alias': 'japanese', 'title': 'Japanese'}, {'alias': 'sushi', 'title': 'Sushi Bars'}, {'alias': 'tapasmallplates', 'title': 'Tapas/Small Plates'}], 'rating': 4.0, 'coordinates': {'latitude': 40.758417, 'longitude': -73.983301}, 'transactions': [], 'location': {'address1': '132 West 47th St', 'address2': None, 'address3': '', 'city': 'New York', 'zip_code': '10036', 'country': 'US', 'state': 'NY', 'display_address': ['132 West 47th St', 'New York, NY 10036']}, 'phone': '+12124320000', 'display_phone': '(212) 432-0000', 'distance': 5961.292620383107}, {'id': 'XfHgiIsoo1Pr_v04bx9ptg', 'alias': 'sushumai-asian-fusion-new-york-2', 'name': 'Sushumai Asian Fusion', 'image_url': 'https://s3-media2.fl.yelpcdn.com/bphoto/tnqJdU5mofyfY5OiR3cxEw/o.jpg', 'is_closed': False, 'url': 'https://www.yelp.com/biz/sushumai-asian-fusion-new-york-2?adjust_creative=NwtoeuLzY-MawNIh6liGLg&utm_campaign=yelp_api_v3&utm_medium=api_v3_business_search&utm_source=NwtoeuLzY-MawNIh6liGLg', 'review_count': 207, 'categories': [{'alias': 'sushi', 'title': 'Sushi Bars'}, {'alias': 'japanese', 'title': 'Japanese'}, {'alias': 'dimsum', 'title': 'Dim Sum'}], 'rating': 4.5, 'coordinates': {'latitude': 40.7211610690848, 'longitude': -73.9872866123915}, 'transactions': ['delivery', 'pickup'], 'price': '$$', 'location': {'address1': '112 Stanton St', 'address2': '', 'address3': None, 'city': 'New York', 'zip_code': '10002', 'country': 'US', 'state': 'NY', 'display_address': ['112 Stanton St', 'New York, NY 10002']}, 'phone': '+12127778808', 'display_phone': '(212) 777-8808', 'distance': 1844.6429322736892}, {'id': 'LTfR_0NiS7OIRCfkaAJg9w', 'alias': 'silver-rice-brooklyn', 'name': 'Silver Rice', 'image_url': 'https://s3-media1.fl.yelpcdn.com/bphoto/NA3n6gNM-obdHqXS8LcULQ/o.jpg', 'is_closed': False, 'url': 'https://www.yelp.com/biz/silver-rice-brooklyn?adjust_creative=NwtoeuLzY-MawNIh6liGLg&utm_campaign=yelp_api_v3&utm_medium=api_v3_business_search&utm_source=NwtoeuLzY-MawNIh6liGLg', 'review_count': 289, 'categories': [{'alias': 'japanese', 'title': 'Japanese'}, {'alias': 'sushi', 'title': 'Sushi Bars'}, {'alias': 'soup', 'title': 'Soup'}], 'rating': 4.5, 'coordinates': {'latitude': 40.6742123562615, 'longitude': -73.9568891376257}, 'transactions': ['delivery', 'pickup'], 'price': '$$', 'location': {'address1': '638 Park Pl', 'address2': '', 'address3': '', 'city': 'Brooklyn', 'zip_code': '11238', 'country': 'US', 'state': 'NY', 'display_address': ['638 Park Pl', 'Brooklyn, NY 11238']}, 'phone': '+17183988100', 'display_phone': '(718) 398-8100', 'distance': 4691.119256308481}, {'id': 'QaEqD7q2GtmlovBOPC6yIQ', 'alias': 'murasaki-long-island-city', 'name': 'Murasaki', 'image_url': 'https://s3-media1.fl.yelpcdn.com/bphoto/tH42F5qYg9uqFqbdh9sz9A/o.jpg', 'is_closed': False, 'url': 'https://www.yelp.com/biz/murasaki-long-island-city?adjust_creative=NwtoeuLzY-MawNIh6liGLg&utm_campaign=yelp_api_v3&utm_medium=api_v3_business_search&utm_source=NwtoeuLzY-MawNIh6liGLg', 'review_count': 226, 'categories': [{'alias': 'japanese', 'title': 'Japanese'}, {'alias': 'sushi', 'title': 'Sushi Bars'}], 'rating': 4.5, 'coordinates': {'latitude': 40.7457764869508, 'longitude': -73.9532554683031}, 'transactions': ['delivery'], 'price': '$$', 'location': {'address1': '4644 Vernon Blvd', 'address2': '', 'address3': '', 'city': 'Long Island City', 'zip_code': '11101', 'country': 'US', 'state': 'NY', 'display_address': ['4644 Vernon Blvd', 'Long Island City, NY 11101']}, 'phone': '+17184827088', 'display_phone': '(718) 482-7088', 'distance': 5663.1454153446875}, {'id': 'PjjpgjY_sdawJU1JHbyNTQ', 'alias': 'temakase-new-york', 'name': 'Temakase', 'image_url': 'https://s3-media2.fl.yelpcdn.com/bphoto/KASEmU6o7I0ihwvahLAtSw/o.jpg', 'is_closed': False, 'url': 'https://www.yelp.com/biz/temakase-new-york?adjust_creative=NwtoeuLzY-MawNIh6liGLg&utm_campaign=yelp_api_v3&utm_medium=api_v3_business_search&utm_source=NwtoeuLzY-MawNIh6liGLg', 'review_count': 74, 'categories': [{'alias': 'sushi', 'title': 'Sushi Bars'}], 'rating': 4.5, 'coordinates': {'latitude': 40.729711, 'longitude': -73.987127}, 'transactions': ['delivery', 'pickup'], 'location': {'address1': '157 Second Ave', 'address2': None, 'address3': '', 'city': 'New York', 'zip_code': '10003', 'country': 'US', 'state': 'NY', 'display_address': ['157 Second Ave', 'New York, NY 10003']}, 'phone': '+12123811456', 'display_phone': '(212) 381-1456', 'distance': 2766.79175516524}, {'id': 'AFisWoWm0pfxEi1dMYitKw', 'alias': 'kyoto-brooklyn', 'name': 'Kyoto', 'image_url': 'https://s3-media3.fl.yelpcdn.com/bphoto/tsaPXswocSvunGg5je1-mA/o.jpg', 'is_closed': False, 'url': 'https://www.yelp.com/biz/kyoto-brooklyn?adjust_creative=NwtoeuLzY-MawNIh6liGLg&utm_campaign=yelp_api_v3&utm_medium=api_v3_business_search&utm_source=NwtoeuLzY-MawNIh6liGLg', 'review_count': 230, 'categories': [{'alias': 'sushi', 'title': 'Sushi Bars'}, {'alias': 'japanese', 'title': 'Japanese'}], 'rating': 4.0, 'coordinates': {'latitude': 40.6877593994141, 'longitude': -73.989501953125}, 'transactions': ['delivery', 'pickup'], 'price': '$$', 'location': {'address1': '115 Smith St', 'address2': '', 'address3': '', 'city': 'Brooklyn', 'zip_code': '11201', 'country': 'US', 'state': 'NY', 'display_address': ['115 Smith St', 'Brooklyn, NY 11201']}, 'phone': '+17185225888', 'display_phone': '(718) 522-5888', 'distance': 2005.5017231162078}, {'id': '_FICyzFLQxR7N62I6qU94A', 'alias': 'kanahashi-brooklyn', 'name': 'KanaHashi', 'image_url': 'https://s3-media2.fl.yelpcdn.com/bphoto/Fxju1EeCKtMX_r0zHtiUeg/o.jpg', 'is_closed': False, 'url': 'https://www.yelp.com/biz/kanahashi-brooklyn?adjust_creative=NwtoeuLzY-MawNIh6liGLg&utm_campaign=yelp_api_v3&utm_medium=api_v3_business_search&utm_source=NwtoeuLzY-MawNIh6liGLg', 'review_count': 149, 'categories': [{'alias': 'sushi', 'title': 'Sushi Bars'}, {'alias': 'lounges', 'title': 'Lounges'}], 'rating': 4.5, 'coordinates': {'latitude': 40.73263, 'longitude': -73.95482}, 'transactions': ['delivery', 'pickup'], 'price': '$$', 'location': {'address1': '981 Manhattan Ave', 'address2': '', 'address3': None, 'city': 'Brooklyn', 'zip_code': '11222', 'country': 'US', 'state': 'NY', 'display_address': ['981 Manhattan Ave', 'Brooklyn, NY 11222']}, 'phone': '+17189069871', 'display_phone': '(718) 906-9871', 'distance': 4490.33448792699}, {'id': 'q1LnBYGiClubZ56H_-VnRQ', 'alias': 'tokyo-sushi-new-york', 'name': 'Tokyo sushi', 'image_url': 'https://s3-media1.fl.yelpcdn.com/bphoto/Yje7K9LR_nkPPxSJMVtI3A/o.jpg', 'is_closed': False, 'url': 'https://www.yelp.com/biz/tokyo-sushi-new-york?adjust_creative=NwtoeuLzY-MawNIh6liGLg&utm_campaign=yelp_api_v3&utm_medium=api_v3_business_search&utm_source=NwtoeuLzY-MawNIh6liGLg', 'review_count': 1, 'categories': [{'alias': 'sushi', 'title': 'Sushi Bars'}], 'rating': 5.0, 'coordinates': {'latitude': 40.719135, 'longitude': -73.985747}, 'transactions': ['delivery', 'pickup'], 'location': {'address1': '151 Rivington St', 'address2': '', 'address3': '', 'city': 'New York', 'zip_code': '10002', 'country': 'US', 'state': 'NY', 'display_address': ['151 Rivington St', 'New York, NY 10002']}, 'phone': '+16468820152', 'display_phone': '(646) 882-0152', 'distance': 1685.2320991003376}, {'id': '0ePn6TQSJQky4ueKeGQvpQ', 'alias': 'sugarfish-by-sushi-nozawa-new-york', 'name': 'SUGARFISH by sushi nozawa', 'image_url': 'https://s3-media2.fl.yelpcdn.com/bphoto/282Jybl2ud5_AT5SekPUKg/o.jpg', 'is_closed': False, 'url': 'https://www.yelp.com/biz/sugarfish-by-sushi-nozawa-new-york?adjust_creative=NwtoeuLzY-MawNIh6liGLg&utm_campaign=yelp_api_v3&utm_medium=api_v3_business_search&utm_source=NwtoeuLzY-MawNIh6liGLg', 'review_count': 860, 'categories': [{'alias': 'sushi', 'title': 'Sushi Bars'}], 'rating': 4.0, 'coordinates': {'latitude': 40.73901, 'longitude': -73.98882}, 'transactions': [], 'price': '$$$', 'location': {'address1': '33 E 20th St', 'address2': None, 'address3': None, 'city': 'New York', 'zip_code': '10003', 'country': 'US', 'state': 'NY', 'display_address': ['33 E 20th St', 'New York, NY 10003']}, 'phone': '+13477058100', 'display_phone': '(347) 705-8100', 'distance': 3763.481038786802}, {'id': 'EXsorzjQ3y3Oh5-m82lgtg', 'alias': 'bushniwa-brooklyn', 'name': 'Bushniwa', 'image_url': 'https://s3-media2.fl.yelpcdn.com/bphoto/diialI-xiYnn4N3ImQOIvg/o.jpg', 'is_closed': False, 'url': 'https://www.yelp.com/biz/bushniwa-brooklyn?adjust_creative=NwtoeuLzY-MawNIh6liGLg&utm_campaign=yelp_api_v3&utm_medium=api_v3_business_search&utm_source=NwtoeuLzY-MawNIh6liGLg', 'review_count': 187, 'categories': [{'alias': 'japanese', 'title': 'Japanese'}, {'alias': 'sushi', 'title': 'Sushi Bars'}, {'alias': 'asianfusion', 'title': 'Asian Fusion'}], 'rating': 4.5, 'coordinates': {'latitude': 40.70397, 'longitude': -73.93344}, 'transactions': ['restaurant_reservation', 'delivery', 'pickup'], 'location': {'address1': '250 Varet St', 'address2': None, 'address3': '', 'city': 'Brooklyn', 'zip_code': '11206', 'country': 'US', 'state': 'NY', 'display_address': ['250 Varet St', 'Brooklyn, NY 11206']}, 'phone': '+17183868886', 'display_phone': '(718) 386-8886', 'distance': 5132.889414467697}, {'id': '72ldgXvlHB9xzyLsgMGCQA', 'alias': 'go-sushi-new-york-4', 'name': 'Go Sushi', 'image_url': 'https://s3-media2.fl.yelpcdn.com/bphoto/aqqkkZYGpJB1zYcgOJOLjg/o.jpg', 'is_closed': False, 'url': 'https://www.yelp.com/biz/go-sushi-new-york-4?adjust_creative=NwtoeuLzY-MawNIh6liGLg&utm_campaign=yelp_api_v3&utm_medium=api_v3_business_search&utm_source=NwtoeuLzY-MawNIh6liGLg', 'review_count': 27, 'categories': [{'alias': 'sushi', 'title': 'Sushi Bars'}], 'rating': 4.5, 'coordinates': {'latitude': 40.71206, 'longitude': -73.99616}, 'transactions': ['delivery'], 'location': {'address1': '86 Madison St', 'address2': None, 'address3': '', 'city': 'New York', 'zip_code': '10002', 'country': 'US', 'state': 'NY', 'display_address': ['86 Madison St', 'New York, NY 10002']}, 'phone': '+16469520004', 'display_phone': '(646) 952-0004', 'distance': 747.0104074412704}, {'id': 'TBp9gdS6xEbSQqffVZ7iag', 'alias': 'kazunori-the-original-hand-roll-bar-new-york-2', 'name': 'KazuNori  | The Original Hand Roll Bar', 'image_url': 'https://s3-media2.fl.yelpcdn.com/bphoto/6nGFPQpDePK-ThXVez64jQ/o.jpg', 'is_closed': False, 'url': 'https://www.yelp.com/biz/kazunori-the-original-hand-roll-bar-new-york-2?adjust_creative=NwtoeuLzY-MawNIh6liGLg&utm_campaign=yelp_api_v3&utm_medium=api_v3_business_search&utm_source=NwtoeuLzY-MawNIh6liGLg', 'review_count': 981, 'categories': [{'alias': 'sushi', 'title': 'Sushi Bars'}, {'alias': 'japanese', 'title': 'Japanese'}], 'rating': 4.5, 'coordinates': {'latitude': 40.74519, 'longitude': -73.98824}, 'transactions': ['delivery'], 'price': '$$', 'location': {'address1': '15 W 28th St', 'address2': None, 'address3': None, 'city': 'New York', 'zip_code': '10001', 'country': 'US', 'state': 'NY', 'display_address': ['15 W 28th St', 'New York, NY 10001']}, 'phone': '+13475945940', 'display_phone': '(347) 594-5940', 'distance': 4460.538165218128}, {'id': 'NRJq2BNcbjqAyxUB_bw7gw', 'alias': 'momoya-new-york', 'name': 'Momoya', 'image_url': 'https://s3-media2.fl.yelpcdn.com/bphoto/QZg0n_Fz1kjkl5pX1RShnw/o.jpg', 'is_closed': False, 'url': 'https://www.yelp.com/biz/momoya-new-york?adjust_creative=NwtoeuLzY-MawNIh6liGLg&utm_campaign=yelp_api_v3&utm_medium=api_v3_business_search&utm_source=NwtoeuLzY-MawNIh6liGLg', 'review_count': 676, 'categories': [{'alias': 'sushi', 'title': 'Sushi Bars'}, {'alias': 'japanese', 'title': 'Japanese'}, {'alias': 'salad', 'title': 'Salad'}], 'rating': 4.0, 'coordinates': {'latitude': 40.7426255196333, 'longitude': -73.9966481924057}, 'transactions': ['delivery', 'pickup'], 'price': '$$', 'location': {'address1': '185 7th Ave', 'address2': None, 'address3': '', 'city': 'New York', 'zip_code': '10011', 'country': 'US', 'state': 'NY', 'display_address': ['185 7th Ave', 'New York, NY 10011']}, 'phone': '+12129894466', 'display_phone': '(212) 989-4466', 'distance': 4137.730524078914}, {'id': 'klAhw3xLQi9GF1tf_HnS7w', 'alias': 'izakaya-mew-new-york-3', 'name': 'Izakaya MEW', 'image_url': 'https://s3-media4.fl.yelpcdn.com/bphoto/cL9AZlSoyBFPr8QkyFfnWw/o.jpg', 'is_closed': False, 'url': 'https://www.yelp.com/biz/izakaya-mew-new-york-3?adjust_creative=NwtoeuLzY-MawNIh6liGLg&utm_campaign=yelp_api_v3&utm_medium=api_v3_business_search&utm_source=NwtoeuLzY-MawNIh6liGLg', 'review_count': 2354, 'categories': [{'alias': 'tapas', 'title': 'Tapas Bars'}, {'alias': 'sushi', 'title': 'Sushi Bars'}, {'alias': 'izakaya', 'title': 'Izakaya'}], 'rating': 4.0, 'coordinates': {'latitude': 40.750148, 'longitude': -73.9863203465939}, 'transactions': ['delivery', 'pickup'], 'price': '$$', 'location': {'address1': '53 W 35th St', 'address2': '', 'address3': '', 'city': 'New York', 'zip_code': '10001', 'country': 'US', 'state': 'NY', 'display_address': ['53 W 35th St', 'New York, NY 10001']}, 'phone': '+16463689384', 'display_phone': '(646) 368-9384', 'distance': 5015.952903788343}], 'total': 2100, 'region': {'center': {'longitude': -73.99429321289062, 'latitude': 40.70544486444615}}}\n"
     ]
    }
   ],
   "source": [
    "print(business_data)"
   ]
  },
  {
   "cell_type": "code",
   "execution_count": null,
   "metadata": {},
   "outputs": [],
   "source": []
  },
  {
   "cell_type": "code",
   "execution_count": 39,
   "metadata": {},
   "outputs": [],
   "source": [
    "import pandas as pd\n",
    "import numpy as np"
   ]
  },
  {
   "cell_type": "code",
   "execution_count": 40,
   "metadata": {},
   "outputs": [],
   "source": [
    "def createdf(business_data):\n",
    "    names = []\n",
    "    price = []\n",
    "    rating = []\n",
    "    review_count = []\n",
    "    for biz in business_data['businesses']:\n",
    "        names.append(biz.get('name'))\n",
    "        price.append(biz.get('price'))\n",
    "        rating.append(biz.get('rating'))\n",
    "        review_count.append(biz.get('review_count'))                            \n",
    "    df_50 = pd.DataFrame(data = {'names':names, 'price':price, 'rating':rating, 'review_count':review_count}) \n",
    "    return df_50"
   ]
  },
  {
   "cell_type": "code",
   "execution_count": null,
   "metadata": {},
   "outputs": [],
   "source": [
    "def get_nearby_places(site_object):\n",
    "    '''Obtain API data from MapQuest API.\n",
    "\n",
    "    https://www.mapquestapi.com/search/v2/radius?origin=Denver,+CO&radius=0.15&maxMatches=3&ambiguities=ignore&hostedData=mqap.ntpois|group_sic_code=?|581208&outFormat=json&key=KEY\n",
    "\n",
    "    Parameters\n",
    "    ----------\n",
    "    site_object: object\n",
    "        an instance of a national site\n",
    "    \n",
    "    Returns\n",
    "    -------\n",
    "    dict\n",
    "        a converted API return from MapQuest API\n",
    "    '''\n",
    "\n",
    "    #url = f\"https://www.mapquestapi.com/search/v2/radius?origin={site_object.address.replace(' ','+')}&radius=10&maxMatches=10&ambiguities=ignore&hostedData=mqap.ntpois|&outFormat=json&key={key}\"\n",
    "    url = f\"https://www.mapquestapi.com/search/v2/radius?origin={site_object.address.replace(' ','+')}&radius=10&maxMatches=10&ambiguities=ignore&hostedData=mqap.ntpois|&outFormat=json&key={key}\"\n",
    "\n",
    "    results = json.loads(requests.get(url).text)\n",
    "    print('-'*20+'\\n'+f\"Places near {site_object.name}\"+'\\n'+('-'*20))\n",
    "    for result in results['searchResults']:\n",
    "        field = result['fields']\n",
    "        print('-', field['name'], '('+field['group_sic_code_name_ext']+'):', field['address']+',', field['city'])"
   ]
  },
  {
   "cell_type": "code",
   "execution_count": 41,
   "metadata": {},
   "outputs": [],
   "source": [
    "df_1 = []\n",
    "for offset in range(0, 951, 50):\n",
    "    business_data = getyelpdata(offset)\n",
    "    df = createdf(business_data)\n",
    "    df_1.append(df)\n",
    "master_df = pd.concat(df_1)"
   ]
  },
  {
   "cell_type": "code",
   "execution_count": 42,
   "metadata": {},
   "outputs": [
    {
     "name": "stdout",
     "output_type": "stream",
     "text": [
      "                  names price  rating  review_count\n",
      "0              Ki Sushi    $$     4.0           709\n",
      "1             Takahachi    $$     4.0           567\n",
      "2   DOMODOMO - New York   $$$     4.0          1175\n",
      "3         Sushi Gallery    $$     4.5           137\n",
      "4                Douska  None     4.5           101\n",
      "..                  ...   ...     ...           ...\n",
      "45              Olmsted   $$$     4.0           404\n",
      "46            Mr Wonton    $$     3.5           211\n",
      "47   Kong Sihk Tong 港食堂     $     4.0           306\n",
      "48      Empire Szechuan    $$     2.5           236\n",
      "49   Juju Cafe and Deli     $     5.0            27\n",
      "\n",
      "[1000 rows x 4 columns]\n"
     ]
    }
   ],
   "source": [
    "print(master_df)"
   ]
  },
  {
   "cell_type": "code",
   "execution_count": null,
   "metadata": {},
   "outputs": [],
   "source": [
    "master_df_sushi = master_df[master_df['names'].str.contains('Sushi', 'sushi', na = False)]"
   ]
  },
  {
   "cell_type": "code",
   "execution_count": null,
   "metadata": {},
   "outputs": [],
   "source": [
    "master_df_sushi = master_df_sushi.replace({'$':1, '$$':2, '$$$':3, '$$$$':4, 'None':np.nan})"
   ]
  },
  {
   "cell_type": "code",
   "execution_count": null,
   "metadata": {},
   "outputs": [],
   "source": [
    "master_df_sushi = master_df_sushi.dropna()"
   ]
  },
  {
   "cell_type": "code",
   "execution_count": null,
   "metadata": {},
   "outputs": [],
   "source": [
    "master_df_sushi.to_csv('master_df_sushisf.csv')"
   ]
  },
  {
   "cell_type": "code",
   "execution_count": null,
   "metadata": {},
   "outputs": [],
   "source": [
    "import matplotlib.pyplot as plt\n",
    "import seaborn as sns"
   ]
  },
  {
   "cell_type": "code",
   "execution_count": null,
   "metadata": {},
   "outputs": [],
   "source": [
    "sns.lmplot(data = master_df_sushi, x = 'price', y = 'rating', x_jitter = 0.5)\n",
    "plt.show()"
   ]
  },
  {
   "cell_type": "code",
   "execution_count": null,
   "metadata": {},
   "outputs": [],
   "source": [
    "master_df_sushi.price.value_counts()"
   ]
  },
  {
   "cell_type": "code",
   "execution_count": null,
   "metadata": {},
   "outputs": [],
   "source": [
    "master_df_sushi.rating.value_counts()"
   ]
  },
  {
   "cell_type": "code",
   "execution_count": null,
   "metadata": {},
   "outputs": [],
   "source": [
    "sns.catplot(x=\"price\", y=\"rating\", kind=\"bar\", data=master_df_sushi, ci=None)\n",
    "plt.show()"
   ]
  },
  {
   "cell_type": "code",
   "execution_count": null,
   "metadata": {},
   "outputs": [],
   "source": [
    "np.mean(master_df_sushi['price'])"
   ]
  },
  {
   "cell_type": "code",
   "execution_count": null,
   "metadata": {},
   "outputs": [],
   "source": [
    "np.mean(master_df_sushi['rating'])"
   ]
  },
  {
   "cell_type": "code",
   "execution_count": null,
   "metadata": {},
   "outputs": [],
   "source": [
    "np.median(master_df_sushi['price'])"
   ]
  },
  {
   "cell_type": "code",
   "execution_count": null,
   "metadata": {},
   "outputs": [],
   "source": [
    "np.median(master_df_sushi['rating'])"
   ]
  },
  {
   "cell_type": "code",
   "execution_count": null,
   "metadata": {},
   "outputs": [],
   "source": [
    "import statistics "
   ]
  },
  {
   "cell_type": "code",
   "execution_count": null,
   "metadata": {},
   "outputs": [],
   "source": [
    "statistics.mode(master_df_sushi['price'])"
   ]
  },
  {
   "cell_type": "code",
   "execution_count": null,
   "metadata": {},
   "outputs": [],
   "source": [
    "statistics.mode(master_df_sushi['rating'])"
   ]
  },
  {
   "cell_type": "code",
   "execution_count": null,
   "metadata": {},
   "outputs": [],
   "source": [
    "master_df_sushi.hist(column='price')"
   ]
  },
  {
   "cell_type": "code",
   "execution_count": null,
   "metadata": {},
   "outputs": [],
   "source": [
    "master_df_sushi.hist(column='rating')"
   ]
  },
  {
   "cell_type": "code",
   "execution_count": null,
   "metadata": {},
   "outputs": [],
   "source": [
    "list1 = master_df_sushi['price']\n",
    "list2 = master_df_sushi['rating']"
   ]
  },
  {
   "cell_type": "code",
   "execution_count": null,
   "metadata": {},
   "outputs": [],
   "source": [
    "from scipy.stats import pearsonr"
   ]
  },
  {
   "cell_type": "code",
   "execution_count": null,
   "metadata": {},
   "outputs": [],
   "source": [
    "corr, _ = pearsonr (list1, list2)\n",
    "print('Pearsons correlation: %.3f' % corr)"
   ]
  },
  {
   "cell_type": "code",
   "execution_count": null,
   "metadata": {},
   "outputs": [],
   "source": [
    "sns.heatmap(master_df_sushi.corr(), annot = True, vmin = -1, vmax = 1, center = 0)"
   ]
  },
  {
   "cell_type": "code",
   "execution_count": null,
   "metadata": {},
   "outputs": [],
   "source": [
    "sns.stripplot(x='price', y='rating', data=master_df_sushi, jitter=0.05)"
   ]
  },
  {
   "cell_type": "code",
   "execution_count": null,
   "metadata": {},
   "outputs": [],
   "source": [
    "sns.stripplot(x='price', y='rating', data=master_df_sushi)"
   ]
  },
  {
   "cell_type": "code",
   "execution_count": null,
   "metadata": {},
   "outputs": [],
   "source": [
    "sns.stripplot(x='rating', y='price', data=master_df_sushi)"
   ]
  },
  {
   "cell_type": "code",
   "execution_count": null,
   "metadata": {},
   "outputs": [],
   "source": []
  }
 ],
 "metadata": {
  "kernelspec": {
   "display_name": "Python 3",
   "language": "python",
   "name": "python3"
  },
  "language_info": {
   "codemirror_mode": {
    "name": "ipython",
    "version": 3
   },
   "file_extension": ".py",
   "mimetype": "text/x-python",
   "name": "python",
   "nbconvert_exporter": "python",
   "pygments_lexer": "ipython3",
   "version": "3.8.8"
  }
 },
 "nbformat": 4,
 "nbformat_minor": 4
}
